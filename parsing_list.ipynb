{
 "cells": [
  {
   "cell_type": "markdown",
   "metadata": {},
   "source": [
    "This notebook aims at exploring all the possibilities for parsing CPC titles into title-hyponyms structure."
   ]
  },
  {
   "cell_type": "markdown",
   "metadata": {},
   "source": [
    "# Data preprocessing"
   ]
  },
  {
   "cell_type": "code",
   "execution_count": 1,
   "metadata": {},
   "outputs": [],
   "source": [
    "from anytree import Node, RenderTree\n",
    "import re \n",
    "\n",
    "import pandas as pd"
   ]
  },
  {
   "cell_type": "code",
   "execution_count": 5,
   "metadata": {},
   "outputs": [],
   "source": [
    "global dict_lvl\n",
    "dict_lvl = {1: -3, 3: -2, 4: -1, 6: 0}\n",
    "\n",
    "def convert_to_int(x):\n",
    "    lvl = x['lvl']\n",
    "    try:\n",
    "        return int(lvl)\n",
    "    except ValueError:\n",
    "        title = x['title']\n",
    "        if len(title) == 1:\n",
    "            return -3\n",
    "        elif len(title) == 3:\n",
    "            return -2\n",
    "        elif len(title) == 4:\n",
    "            return -1\n",
    "\n",
    "def clean_descr(description):\n",
    "    \"\"\"\n",
    "    1. remove references from the description, such as (preserving A23B; obtaining protein compositions for foodstuffs A23J1/00;)\n",
    "    2. remove '{' and '}'\n",
    "    \"\"\"\n",
    "    description = description.replace('{', '').replace('}','')\n",
    "    description = re.sub(r'\\ ?\\([\\w\\W]*([A-Z]{1}[0-9]{2}[A-Z]{1}[0-9]*[\\/]*[0-9])*[\\w\\W]*\\)', '', description)\n",
    "    return description\n",
    "\n",
    "def read_label_file(file_name, max_level=4):\n",
    "    df = pd.read_csv(file_name, header=None, sep='\\t', dtype=object, names=['title', 'lvl', 'description'])\n",
    "    df['lvl'] = df.apply(convert_to_int, axis=1)\n",
    "\n",
    "    if max_level in [1,3,4,6]:\n",
    "        df = df[df['lvl']<=dict_lvl[max_level]]\n",
    "\n",
    "    df['description'] = df['description'].apply(clean_descr)\n",
    "    return df.reset_index(drop=True)\n",
    "\n",
    "def find_father(df, child_lvl):\n",
    "    for i, row in df[::-1].iterrows():\n",
    "        if row.lvl + 1 == child_lvl:\n",
    "            return row.title\n",
    "\n",
    "def build_tree(df):\n",
    "    node_dict = {}\n",
    "    root_title = df.loc[0, 'title']\n",
    "    root_desc = df.loc[0, 'description']\n",
    "    node_dict[root_title] = Node(root_desc)\n",
    "\n",
    "    for i, row in df[1:].iterrows():\n",
    "        child_lvl = row.lvl\n",
    "        child_title = row.title\n",
    "        child_desc = row.description\n",
    "\n",
    "        father_title = find_father(df[:i], child_lvl)\n",
    "        node_dict[child_title] = Node(child_desc, parent = node_dict[father_title])\n",
    "    return node_dict[root_title]"
   ]
  },
  {
   "cell_type": "code",
   "execution_count": 6,
   "metadata": {},
   "outputs": [],
   "source": [
    "A_df = read_label_file('cpc-titles/cpc-section-A_20220201.txt')\n",
    "B_df = read_label_file('cpc-titles/cpc-section-B_20220201.txt')\n",
    "C_df = read_label_file('cpc-titles/cpc-section-C_20220201.txt')\n",
    "D_df = read_label_file('cpc-titles/cpc-section-D_20220201.txt')\n",
    "E_df = read_label_file('cpc-titles/cpc-section-E_20220201.txt')\n",
    "F_df = read_label_file('cpc-titles/cpc-section-F_20220201.txt')\n",
    "G_df = read_label_file('cpc-titles/cpc-section-G_20220201.txt')\n",
    "H_df = read_label_file('cpc-titles/cpc-section-H_20220201.txt')"
   ]
  },
  {
   "cell_type": "code",
   "execution_count": 14,
   "metadata": {},
   "outputs": [
    {
     "name": "stdout",
     "output_type": "stream",
     "text": [
      "MECHANICAL ENGINEERING; LIGHTING; HEATING; WEAPONS; BLASTING\n",
      "├── MACHINES OR ENGINES IN GENERAL; ENGINE PLANTS IN GENERAL; STEAM ENGINES\n",
      "│   ├── MACHINES OR ENGINES, IN GENERAL OR OF POSITIVE-DISPLACEMENT TYPE, e.g. STEAM ENGINES\n",
      "│   ├── ROTARY-PISTON OR OSCILLATING-PISTON MACHINES OR ENGINES\n",
      "│   ├── NON-POSITIVE DISPLACEMENT MACHINES OR ENGINES, e.g. STEAM TURBINES\n",
      "│   ├── STEAM ENGINE PLANTS; STEAM ACCUMULATORS; ENGINE PLANTS NOT OTHERWISE PROVIDED FOR; ENGINES USING SPECIAL WORKING FLUIDS OR CYCLES\n",
      "│   ├── CYCLICALLY OPERATING VALVES FOR MACHINES OR ENGINES\n",
      "│   ├── LUBRICATING OF MACHINES OR ENGINES IN GENERAL; LUBRICATING INTERNAL COMBUSTION ENGINES; CRANKCASE VENTILATING\n",
      "│   ├── GAS-FLOW SILENCERS OR EXHAUST APPARATUS FOR MACHINES OR ENGINES IN GENERAL; GAS-FLOW SILENCERS OR EXHAUST APPARATUS FOR INTERNAL COMBUSTION ENGINES\n",
      "│   └── COOLING OF MACHINES OR ENGINES IN GENERAL; COOLING OF INTERNAL-COMBUSTION ENGINES\n",
      "├── COMBUSTION ENGINES; HOT-GAS OR COMBUSTION-PRODUCT ENGINE PLANTS\n",
      "│   ├── INTERNAL-COMBUSTION PISTON ENGINES; COMBUSTION ENGINES IN GENERAL\n",
      "│   ├── GAS-TURBINE PLANTS; AIR INTAKES FOR JET-PROPULSION PLANTS; CONTROLLING FUEL SUPPLY IN AIR-BREATHING JET-PROPULSION PLANTS\n",
      "│   ├── CONTROLLING COMBUSTION ENGINES\n",
      "│   ├── CYLINDERS, PISTONS OR CASINGS, FOR COMBUSTION ENGINES; ARRANGEMENTS OF SEALINGS IN COMBUSTION ENGINES\n",
      "│   ├── HOT GAS OR COMBUSTION-PRODUCT POSITIVE-DISPLACEMENT ENGINE PLANTS; USE OF WASTE HEAT OF COMBUSTION ENGINES; NOT OTHERWISE PROVIDED FOR\n",
      "│   ├── JET-PROPULSION PLANTS\n",
      "│   ├── SUPPLYING COMBUSTION ENGINES IN GENERAL WITH COMBUSTIBLE MIXTURES OR CONSTITUENTS THEREOF\n",
      "│   ├── STARTING OF COMBUSTION ENGINES; STARTING AIDS FOR SUCH ENGINES, NOT OTHERWISE PROVIDED FOR\n",
      "│   └── IGNITION, OTHER THAN COMPRESSION IGNITION, FOR INTERNAL-COMBUSTION ENGINES; TESTING OF IGNITION TIMING IN COMPRESSION-IGNITION ENGINES\n",
      "├── MACHINES OR ENGINES FOR LIQUIDS; WIND, SPRING, OR WEIGHT MOTORS; PRODUCING MECHANICAL POWER OR A REACTIVE PROPULSIVE THRUST, NOT OTHERWISE PROVIDED FOR\n",
      "│   ├── MACHINES OR ENGINES FOR LIQUIDS\n",
      "│   ├── POSITIVE-DISPLACEMENT ENGINES DRIVEN BY LIQUIDS\n",
      "│   ├── WIND MOTORS\n",
      "│   ├── SPRING, WEIGHT, INERTIA OR LIKE MOTORS; MECHANICAL-POWER PRODUCING DEVICES OR MECHANISMS, NOT OTHERWISE PROVIDED FOR OR USING ENERGY SOURCES NOT OTHERWISE PROVIDED FOR\n",
      "│   └── PRODUCING A REACTIVE PROPULSIVE THRUST, NOT OTHERWISE PROVIDED FOR\n",
      "├── POSITIVE - DISPLACEMENT MACHINES FOR LIQUIDS; PUMPS FOR LIQUIDS OR ELASTIC FLUIDS\n",
      "│   ├── POSITIVE-DISPLACEMENT MACHINES FOR LIQUIDS; PUMPS\n",
      "│   ├── ROTARY-PISTON, OR OSCILLATING-PISTON, POSITIVE-DISPLACEMENT MACHINES FOR LIQUIDS; ROTARY-PISTON, OR OSCILLATING-PISTON, POSITIVE-DISPLACEMENT PUMPS\n",
      "│   ├── NON-POSITIVE-DISPLACEMENT PUMPS\n",
      "│   └── PUMPING OF FLUID BY DIRECT CONTACT OF ANOTHER FLUID OR BY USING INERTIA OF FLUID TO BE PUMPED\n",
      "├── INDEXING SCHEMES RELATING TO ENGINES OR PUMPS IN VARIOUS SUBCLASSES OF CLASSES F01-F04\n",
      "│   ├── INDEXING SCHEME RELATING TO WIND, SPRING, WEIGHT, INERTIA OR LIKE MOTORS, TO MACHINES OR ENGINES FOR LIQUIDS COVERED BY SUBCLASSES F03B, F03D AND F03G\n",
      "│   ├── INDEXING SCHEME RELATING TO MATERIALS, MATERIAL PROPERTIES OR MATERIAL CHARACTERISTICS FOR MACHINES, ENGINES OR PUMPS OTHER THAN NON-POSITIVE-DISPLACEMENT MACHINES OR ENGINES\n",
      "│   └── INDEXING SCHEME FOR ASPECTS RELATING TO NON-POSITIVE-DISPLACEMENT MACHINES OR ENGINES, GAS-TURBINES OR JET-PROPULSION PLANTS\n",
      "├── FLUID-PRESSURE ACTUATORS; HYDRAULICS OR PNEUMATICS IN GENERAL\n",
      "│   ├── SYSTEMS ACTING BY MEANS OF FLUIDS IN GENERAL; FLUID-PRESSURE ACTUATORS, e.g. SERVOMOTORS; DETAILS OF FLUID-PRESSURE SYSTEMS, NOT OTHERWISE PROVIDED FOR\n",
      "│   ├── FLUID-CIRCUIT ELEMENTS PREDOMINANTLY USED FOR COMPUTING OR CONTROL PURPOSES\n",
      "│   └── FLUID DYNAMICS, i.e. METHODS OR MEANS FOR INFLUENCING THE FLOW OF GASES OR LIQUIDS\n",
      "├── ENGINEERING ELEMENTS AND UNITS; GENERAL MEASURES FOR PRODUCING AND MAINTAINING EFFECTIVE FUNCTIONING OF MACHINES OR INSTALLATIONS; THERMAL INSULATION IN GENERAL\n",
      "│   ├── DEVICES FOR FASTENING OR SECURING CONSTRUCTIONAL ELEMENTS OR MACHINE PARTS TOGETHER, e.g. NAILS, BOLTS, CIRCLIPS, CLAMPS, CLIPS, WEDGES, JOINTS OR JOINTING\n",
      "│   ├── SHAFTS; FLEXIBLE SHAFTS; ELEMENTS OR CRANKSHAFT MECHANISMS; ROTARY BODIES OTHER THAN GEARING ELEMENTS; BEARINGS\n",
      "│   ├── COUPLINGS FOR TRANSMITTING ROTATION; CLUTCHES; BRAKES\n",
      "│   ├── SPRINGS; SHOCK-ABSORBERS; MEANS FOR DAMPING VIBRATION\n",
      "│   ├── BELTS, CABLES, OR ROPES, PREDOMINANTLY USED FOR DRIVING PURPOSES; CHAINS; FITTINGS PREDOMINANTLY USED THEREFOR\n",
      "│   ├── GEARING\n",
      "│   ├── PISTONS; CYLINDERS; SEALINGS\n",
      "│   ├── VALVES; TAPS; COCKS; ACTUATING-FLOATS; DEVICES FOR VENTING OR AERATING\n",
      "│   ├── PIPES; JOINTS OR FITTINGS FOR PIPES; SUPPORTS FOR PIPES, CABLES OR PROTECTIVE TUBING; MEANS FOR THERMAL INSULATION IN GENERAL\n",
      "│   ├── FRAMES, CASINGS OR BEDS OF ENGINES, MACHINES OR APPARATUS, NOT SPECIFIC TO ENGINES, MACHINES OR APPARATUS PROVIDED FOR ELSEWHERE; STANDS; SUPPORTS\n",
      "│   ├── LUBRICATING\n",
      "│   ├── SAFETY DEVICES IN GENERAL; SAFETY DEVICES FOR PRESSES\n",
      "│   ├── CONSTRUCTIONAL ELEMENTS IN GENERAL; STRUCTURES BUILT-UP FROM SUCH ELEMENTS, IN GENERAL\n",
      "│   └── STEAM TRAPS OR LIKE APPARATUS FOR DRAINING-OFF LIQUIDS FROM ENCLOSURES PREDOMINANTLY CONTAINING GASES OR VAPOURS\n",
      "├── STORING OR DISTRIBUTING GASES OR LIQUIDS\n",
      "│   ├── GAS-HOLDERS OF VARIABLE CAPACITY\n",
      "│   ├── VESSELS FOR CONTAINING OR STORING COMPRESSED, LIQUEFIED OR SOLIDIFIED GASES; FIXED-CAPACITY GAS-HOLDERS; FILLING VESSELS WITH, OR DISCHARGING FROM VESSELS, COMPRESSED, LIQUEFIED, OR SOLIDIFIED GASES\n",
      "│   └── PIPE-LINE SYSTEMS; PIPE-LINES\n",
      "├── LIGHTING\n",
      "│   ├── INCANDESCENT MANTLES; OTHER INCANDESCENT BODIES HEATED BY COMBUSTION\n",
      "│   ├── NON-ELECTRIC LIGHT SOURCES USING LUMINESCENCE; LIGHT SOURCES USING ELECTROCHEMILUMINESCENCE; LIGHT SOURCES USING CHARGES OF COMBUSTIBLE MATERIAL; LIGHT SOURCES USING SEMICONDUCTOR DEVICES AS LIGHT-GENERATING ELEMENTS; LIGHT SOURCES NOT OTHERWISE PROVIDED FOR\n",
      "│   ├── LIGHTING DEVICES OR SYSTEMS THEREOF, BEING PORTABLE OR SPECIALLY ADAPTED FOR TRANSPORTATION\n",
      "│   ├── NON-PORTABLE LIGHTING DEVICES; SYSTEMS THEREOF; VEHICLE LIGHTING DEVICES SPECIALLY ADAPTED FOR VEHICLE EXTERIORS\n",
      "│   ├── FUNCTIONAL FEATURES OR DETAILS OF LIGHTING DEVICES OR SYSTEMS THEREOF; STRUCTURAL COMBINATIONS OF LIGHTING DEVICES WITH OTHER ARTICLES, NOT OTHERWISE PROVIDED FOR\n",
      "│   ├── INDEXING SCHEME ASSOCIATED WITH SUBCLASSES F21K, F21L, F21S and F21V, RELATING TO USES OR APPLICATIONS OF LIGHTING DEVICES OR SYSTEMS\n",
      "│   └── INDEXING SCHEME ASSOCIATED WITH SUBCLASSES F21K, F21L, F21S and F21V, RELATING TO THE FORM OR THE KIND OF THE LIGHT SOURCES OR OF THE COLOUR OF THE LIGHT EMITTED\n",
      "├── STEAM GENERATION\n",
      "│   ├── METHODS OF STEAM GENERATION; STEAM BOILERS\n",
      "│   ├── PREHEATING, OR ACCUMULATING PREHEATED, FEED-WATER FOR STEAM GENERATION; FEED-WATER SUPPLY FOR STEAM GENERATION; CONTROLLING WATER LEVEL FOR STEAM GENERATION; AUXILIARY DEVICES FOR PROMOTING WATER CIRCULATION WITHIN STEAM BOILERS\n",
      "│   └── SUPERHEATING OF STEAM\n",
      "├── COMBUSTION APPARATUS; COMBUSTION PROCESSES\n",
      "│   ├── METHODS OR APPARATUS FOR COMBUSTION USING ONLY SOLID FUEL\n",
      "│   ├── METHODS OR APPARATUS FOR COMBUSTION USING FLUID FUEL OR SOLID FUEL SUSPENDED IN  A CARRIER GAS OR AIR \n",
      "│   ├── BURNERS\n",
      "│   ├── CREMATION FURNACES; CONSUMING WASTE PRODUCTS BY COMBUSTION\n",
      "│   ├── GRATES; CLEANING OR RAKING GRATES\n",
      "│   ├── REMOVAL OR TREATMENT OF COMBUSTION PRODUCTS OR COMBUSTION RESIDUES; FLUES \n",
      "│   ├── FEEDING FUEL TO COMBUSTION APPARATUS\n",
      "│   ├── SUPPLYING AIR OR NON-COMBUSTIBLE LIQUIDS OR GASES TO COMBUSTION APPARATUS IN GENERAL ; INDUCING DRAUGHT IN COMBUSTION APPARATUS; TOPS FOR CHIMNEYS OR VENTILATING SHAFTS; TERMINALS FOR FLUES\n",
      "│   ├── CASINGS, LININGS, WALLS OR DOORS SPECIALLY ADAPTED FOR COMBUSTION CHAMBERS, e.g. FIREBRIDGES; DEVICES FOR DEFLECTING AIR, FLAMES OR COMBUSTION PRODUCTS IN COMBUSTION CHAMBERS; SAFETY ARRANGEMENTS SPECIALLY ADAPTED FOR COMBUSTION APPARATUS; DETAILS OF COMBUSTION CHAMBERS, NOT OTHERWISE PROVIDED FOR\n",
      "│   ├── REGULATING OR CONTROLLING COMBUSTION\n",
      "│   ├── IGNITION; EXTINGUISHING-DEVICES\n",
      "│   └── GENERATING COMBUSTION PRODUCTS OF HIGH PRESSURE OR HIGH VELOCITY, e.g. GAS-TURBINE COMBUSTION CHAMBERS\n",
      "├── HEATING; RANGES; VENTILATING\n",
      "│   ├── DOMESTIC STOVES OR RANGES FOR SOLID FUELS; IMPLEMENTS FOR USE IN CONNECTION WITH STOVES OR RANGES\n",
      "│   ├── DOMESTIC STOVES OR RANGES ; DETAILS OF DOMESTIC STOVES OR RANGES, OF GENERAL APPLICATION\n",
      "│   ├── DOMESTIC- OR SPACE-HEATING SYSTEMS, e.g. CENTRAL HEATING SYSTEMS; DOMESTIC HOT-WATER SUPPLY SYSTEMS; ELEMENTS OR COMPONENTS THEREFOR\n",
      "│   ├── AIR-CONDITIONING; AIR-HUMIDIFICATION; VENTILATION; USE OF AIR CURRENTS FOR SCREENING\n",
      "│   ├── FLUID HEATERS, e.g. WATER OR AIR HEATERS, HAVING HEAT-GENERATING MEANS, e.g. HEAT PUMPS, IN GENERAL\n",
      "│   ├── SOLAR HEAT COLLECTORS; SOLAR HEAT SYSTEMS\n",
      "│   ├── GEOTHERMAL COLLECTORS; GEOTHERMAL SYSTEMS\n",
      "│   └── COLLECTION, PRODUCTION OR USE OF HEAT NOT OTHERWISE PROVIDED FOR\n",
      "├── REFRIGERATION OR COOLING; COMBINED HEATING AND REFRIGERATION SYSTEMS; HEAT PUMP SYSTEMS; MANUFACTURE OR STORAGE OF ICE; LIQUEFACTION SOLIDIFICATION OF GASES\n",
      "│   ├── REFRIGERATION MACHINES, PLANTS OR SYSTEMS; COMBINED HEATING AND REFRIGERATION SYSTEMS; HEAT PUMP SYSTEMS\n",
      "│   ├── PRODUCING, WORKING OR HANDLING ICE\n",
      "│   ├── REFRIGERATORS; COLD ROOMS; ICE-BOXES; COOLING OR FREEZING APPARATUS NOT OTHERWISE PROVIDED FOR\n",
      "│   └── LIQUEFACTION, SOLIDIFICATION OR SEPARATION OF GASES OR GASEOUS OR LIQUEFIED GASEOUS MIXTURES BY PRESSURE AND COLD TREATMENT OR BY BRINGING THEM INTO THE SUPERCRITICAL STATE\n",
      "├── DRYING\n",
      "│   └── DRYING SOLID MATERIALS OR OBJECTS BY REMOVING LIQUID THEREFROM\n",
      "├── FURNACES; KILNS; OVENS; RETORTS\n",
      "│   ├── FURNACES, KILNS, OVENS, OR RETORTS IN GENERAL; OPEN SINTERING OR LIKE APPARATUS\n",
      "│   ├── DETAILS OR ACCESSORIES OF FURNACES, KILNS, OVENS, OR RETORTS, IN SO FAR AS THEY ARE OF KINDS OCCURRING IN MORE THAN ONE KIND OF FURNACE\n",
      "│   └── INDEXING SCHEME RELATING TO ASPECTS OF THE CHARGES OR FURNACES, KILNS, OVENS OR RETORTS\n",
      "├── HEAT EXCHANGE IN GENERAL\n",
      "│   ├── STEAM OR VAPOUR CONDENSERS\n",
      "│   ├── HEAT-EXCHANGE APPARATUS, NOT PROVIDED FOR IN ANOTHER SUBCLASS, IN WHICH THE HEAT-EXCHANGE MEDIA COME INTO DIRECT CONTACT WITHOUT CHEMICAL INTERACTION\n",
      "│   ├── HEAT-EXCHANGE APPARATUS, NOT PROVIDED FOR IN ANOTHER SUBCLASS, IN WHICH THE HEAT-EXCHANGE MEDIA DO NOT COME INTO DIRECT CONTACT\n",
      "│   ├── DETAILS OF HEAT-EXCHANGE AND HEAT-TRANSFER APPARATUS, OF GENERAL APPLICATION\n",
      "│   └── CLEANING OF INTERNAL OR EXTERNAL SURFACES OF HEAT-EXCHANGE OR HEAT-TRANSFER CONDUITS, e.g. WATER TUBES OR BOILERS\n",
      "├── WEAPONS\n",
      "│   ├── FUNCTIONAL FEATURES OR DETAILS COMMON TO BOTH SMALLARMS AND ORDNANCE, e.g. CANNONS; MOUNTINGS FOR SMALLARMS OR ORDNANCE\n",
      "│   ├── WEAPONS FOR PROJECTING MISSILES WITHOUT USE OF EXPLOSIVE OR COMBUSTIBLE PROPELLANT CHARGE; WEAPONS NOT OTHERWISE PROVIDED FOR\n",
      "│   ├── SMALLARMS, e.g. PISTOLS, RIFLES; ACCESSORIES THEREFOR\n",
      "│   ├── APPARATUS FOR LAUNCHING PROJECTILES OR MISSILES FROM BARRELS, e.g. CANNONS\n",
      "│   ├── WEAPON SIGHTS; AIMING\n",
      "│   ├── ARMOUR; ARMOURED TURRETS; ARMOURED OR ARMED VEHICLES; MEANS OF ATTACK OR DEFENCE, e.g. CAMOUFLAGE, IN GENERAL\n",
      "│   └── TARGETS; TARGET RANGES; BULLET CATCHERS\n",
      "├── AMMUNITION; BLASTING\n",
      "│   ├── EXPLOSIVE CHARGES, e.g. FOR BLASTING, FIREWORKS, AMMUNITION\n",
      "│   ├── AMMUNITION FUZES\n",
      "│   └── BLASTING\n",
      "└── SUBJECT MATTER NOT OTHERWISE PROVIDED FOR IN THIS SECTION\n",
      "    └── SUBJECT MATTER NOT OTHERWISE PROVIDED FOR IN THIS SECTION\n"
     ]
    }
   ],
   "source": [
    "for pre, fill, node in RenderTree(build_tree(F_df)):\n",
    "    print(\"%s%s\" % (pre, node.name))"
   ]
  },
  {
   "cell_type": "markdown",
   "metadata": {},
   "source": [
    "## Parsing rules"
   ]
  },
  {
   "cell_type": "code",
   "execution_count": null,
   "metadata": {},
   "outputs": [],
   "source": [
    "# PHYSICS\n",
    "# ├── MEASURING; TESTING\n",
    "# │   ├── MEASURING LENGTH, THICKNESS OR SIMILAR LINEAR DIMENSIONS; MEASURING ANGLES; MEASURING AREAS; MEASURING IRREGULARITIES OF SURFACES OR CONTOURS"
   ]
  },
  {
   "cell_type": "markdown",
   "metadata": {},
   "source": [
    "### split titles by semicolon\n",
    "\n",
    "NOTE: here, we prefer not to split the content by \"OR\", because all the parts connected by OR eventually form an overall concept or a plausible event."
   ]
  },
  {
   "cell_type": "markdown",
   "metadata": {},
   "source": [
    "### Examples with e.g."
   ]
  },
  {
   "cell_type": "code",
   "execution_count": null,
   "metadata": {},
   "outputs": [],
   "source": [
    "# ├── PHOTOGRAPHY; CINEMATOGRAPHY; ANALOGOUS TECHNIQUES USING WAVES OTHER THAN OPTICAL WAVES; ELECTROGRAPHY; HOLOGRAPHY\n",
    "# │   ├── APPARATUS OR ARRANGEMENTS FOR TAKING PHOTOGRAPHS OR FOR PROJECTING OR VIEWING THEM; APPARATUS OR ARRANGEMENTS EMPLOYING ANALOGOUS TECHNIQUES USING WAVES OTHER THAN OPTICAL WAVES; ACCESSORIES THEREFOR\n",
    "# │   ├── PHOTOMECHANICAL PRODUCTION OF TEXTURED OR PATTERNED SURFACES, e.g. FOR PRINTING, FOR PROCESSING OF SEMICONDUCTOR DEVICES; MATERIALS THEREFOR; ORIGINALS THEREFOR; APPARATUS SPECIALLY ADAPTED THEREFOR;"
   ]
  },
  {
   "cell_type": "code",
   "execution_count": 11,
   "metadata": {},
   "outputs": [],
   "source": [
    "# ├── MEASURING; TESTING\n",
    "# │   ├── SCANNING-PROBE TECHNIQUES OR APPARATUS; APPLICATIONS OF SCANNING-PROBE TECHNIQUES, e.g. SCANNING PROBE MICROSCOPY [SPM]"
   ]
  },
  {
   "cell_type": "code",
   "execution_count": null,
   "metadata": {},
   "outputs": [],
   "source": [
    "# ├── MUSICAL INSTRUMENTS; ACOUSTICS\n",
    "# │   ├── REPRESENTATION OF MUSIC; RECORDING MUSIC IN NOTATION FORM; ACCESSORIES FOR MUSIC OR MUSICAL INSTRUMENTS NOT OTHERWISE PROVIDED FOR, e.g. SUPPORTS"
   ]
  },
  {
   "cell_type": "markdown",
   "metadata": {},
   "source": [
    "1. e.g. + examples starts with preposition ==> add the e.g. content after the main title as hyponym nodes ????\n",
    "2. The contents of [] are usually abbreviations \n",
    "\n",
    "NOTE: e.g. is dedicated to the closest one as a supplement (with; split)."
   ]
  },
  {
   "cell_type": "markdown",
   "metadata": {},
   "source": [
    "### Remove trash titles\n",
    "\n",
    "NOTE: titles which has content of SUBJECT MATTER NOT OTHERWISE PROVIDED FOR IN THIS SECTION"
   ]
  },
  {
   "cell_type": "code",
   "execution_count": null,
   "metadata": {},
   "outputs": [],
   "source": [
    "# ├── NUCLEAR PHYSICS; NUCLEAR ENGINEERING\n",
    "# │   └── TECHNIQUES FOR HANDLING PARTICLES OR IONISING RADIATION NOT OTHERWISE PROVIDED FOR; IRRADIATION DEVICES; GAMMA RAY OR X-RAY MICROSCOPES\n",
    "# └── SUBJECT MATTER NOT OTHERWISE PROVIDED FOR IN THIS SECTION"
   ]
  },
  {
   "cell_type": "markdown",
   "metadata": {},
   "source": [
    "## problems to solve:"
   ]
  },
  {
   "cell_type": "code",
   "execution_count": null,
   "metadata": {},
   "outputs": [],
   "source": [
    "# ├── CONTROLLING; REGULATING\n",
    "# │   ├── CONTROL OR REGULATING SYSTEMS IN GENERAL; FUNCTIONAL ELEMENTS OF SUCH SYSTEMS; MONITORING OR TESTING ARRANGEMENTS FOR SUCH SYSTEMS OR ELEMENTS"
   ]
  },
  {
   "cell_type": "markdown",
   "metadata": {},
   "source": [
    "Some triky key words like: such"
   ]
  },
  {
   "cell_type": "code",
   "execution_count": 12,
   "metadata": {},
   "outputs": [],
   "source": [
    "# ├── EDUCATION; CRYPTOGRAPHY; DISPLAY; ADVERTISING; SEALS\n",
    "# │   ├── DISPLAYING; ADVERTISING; SIGNS; LABELS OR NAME-PLATES; SEALS"
   ]
  },
  {
   "cell_type": "markdown",
   "metadata": {},
   "source": [
    "repetited words in title-hypernym\n",
    "\n",
    "SEALS in the previous example"
   ]
  },
  {
   "cell_type": "code",
   "execution_count": null,
   "metadata": {},
   "outputs": [],
   "source": [
    "# ├── ENGINEERING ELEMENTS AND UNITS; GENERAL MEASURES FOR PRODUCING AND MAINTAINING EFFECTIVE FUNCTIONING OF MACHINES OR INSTALLATIONS; THERMAL INSULATION IN GENERAL\n",
    "# │   ├── DEVICES FOR FASTENING OR SECURING CONSTRUCTIONAL ELEMENTS OR MACHINE PARTS TOGETHER, e.g. NAILS, BOLTS, CIRCLIPS, CLAMPS, CLIPS, WEDGES, JOINTS OR JOINTING"
   ]
  },
  {
   "cell_type": "code",
   "execution_count": null,
   "metadata": {},
   "outputs": [],
   "source": [
    "# │   ├── INDEXING SCHEME ASSOCIATED WITH SUBCLASSES F21K, F21L, F21S and F21V, RELATING TO USES OR APPLICATIONS OF LIGHTING DEVICES OR SYSTEMS"
   ]
  },
  {
   "cell_type": "code",
   "execution_count": null,
   "metadata": {},
   "outputs": [],
   "source": [
    "# ├── WEAPONS\n",
    "# │   ├── FUNCTIONAL FEATURES OR DETAILS COMMON TO BOTH SMALLARMS AND ORDNANCE, e.g. CANNONS; MOUNTINGS FOR SMALLARMS OR ORDNANCE\n",
    "# │   ├── APPARATUS FOR LAUNCHING PROJECTILES OR MISSILES FROM BARRELS, e.g. CANNONS"
   ]
  },
  {
   "cell_type": "markdown",
   "metadata": {},
   "source": []
  }
 ],
 "metadata": {
  "interpreter": {
   "hash": "50678bd881179726030c45a6eeb0489f217fd9e2833c49a3078353608a656348"
  },
  "kernelspec": {
   "display_name": "Python 3.9.5 ('base')",
   "language": "python",
   "name": "python3"
  },
  "language_info": {
   "codemirror_mode": {
    "name": "ipython",
    "version": 3
   },
   "file_extension": ".py",
   "mimetype": "text/x-python",
   "name": "python",
   "nbconvert_exporter": "python",
   "pygments_lexer": "ipython3",
   "version": "3.9.5"
  },
  "orig_nbformat": 4
 },
 "nbformat": 4,
 "nbformat_minor": 2
}
